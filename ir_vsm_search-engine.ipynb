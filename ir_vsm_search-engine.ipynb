{
  "cells": [
    {
      "cell_type": "markdown",
      "metadata": {
        "colab_type": "text",
        "id": "d4FUKDUCHOwE"
      },
      "source": [
        "# Implementasi Vector Space Model Dalam Search Engine"
      ]
    },
    {
      "cell_type": "markdown",
      "metadata": {
        "colab_type": "text",
        "id": "6sTDhpHeGnUa"
      },
      "source": [
        "##### Mengimport Corpus"
      ]
    },
    {
      "cell_type": "code",
      "execution_count": 59,
      "metadata": {
        "colab": {
          "base_uri": "https://localhost:8080/",
          "height": 71
        },
        "colab_type": "code",
        "id": "-5b4eUg5V-Oh",
        "outputId": "2917cd29-35dd-4ff3-fb00-ba2b0108cec7"
      },
      "outputs": [],
      "source": [
        "from sklearn.feature_extraction.text import TfidfVectorizer\n",
        "corpus = [\n",
        "      'Aldi memasak nasi',\n",
        "      'Messi bermain bola bersama Ronaldo',\n",
        "      'Ronaldo makan nasi',\n",
        "      'Messi beli somay',\n",
        "      'Yanto pergi bersama aldi ke Jakarta',\n",
        "      'Aldi bermain game dengan Ronaldo',\n",
        "      'Jakarta merupakan kota kelahiran Messi',\n",
        "      'somay itu dibuat oleh Ronaldo',\n",
        "      'Messi makan nasi dengan somay',\n",
        "      'Yanto dan Messi makan somay sambil bermain bola',\n",
        "      'Ronaldo memasak sayur sebelum pergi ke Jakarta',\n",
        "      'Jakarta hujan setiap sore hari',\n",
        "      'ALdi pergi ke jakarta menonton pertandingan bola',\n",
        "         ]"
      ]
    },
    {
      "cell_type": "markdown",
      "metadata": {},
      "source": [
        "##### nltk untuk pemrosesan kata & pandas untuk pengolahan data"
      ]
    },
    {
      "cell_type": "code",
      "execution_count": 60,
      "metadata": {
        "colab": {
          "base_uri": "https://localhost:8080/",
          "height": 102
        },
        "colab_type": "code",
        "id": "JKx_u_-8eVet",
        "outputId": "f548b61b-dfe3-4749-c527-94c3d512fc12"
      },
      "outputs": [
        {
          "name": "stderr",
          "output_type": "stream",
          "text": [
            "[nltk_data] Downloading package punkt to\n",
            "[nltk_data]     C:\\Users\\user\\AppData\\Roaming\\nltk_data...\n",
            "[nltk_data]   Package punkt is already up-to-date!\n"
          ]
        },
        {
          "data": {
            "text/plain": [
              "True"
            ]
          },
          "execution_count": 60,
          "metadata": {},
          "output_type": "execute_result"
        }
      ],
      "source": [
        "#loading basic packages\n",
        "import pandas as pd\n",
        "import nltk\n",
        "nltk.download('punkt')"
      ]
    },
    {
      "cell_type": "markdown",
      "metadata": {
        "colab_type": "text",
        "id": "qSmGVRXUDtor"
      },
      "source": [
        "\n",
        "##### Fungsi Tokenizing dan stemming"
      ]
    },
    {
      "cell_type": "code",
      "execution_count": 61,
      "metadata": {
        "colab": {},
        "colab_type": "code",
        "id": "0EDlevVigbFy"
      },
      "outputs": [],
      "source": [
        "# proses membagi text ke dalam token. Token merupakan rangkaian karakter yang bisa dipisahkan oleh spasi/tanda baca\n",
        "def get_tokenized_list(doc_text):\n",
        "    tokens = nltk.word_tokenize(doc_text)\n",
        "    return tokens\n",
        "\n",
        "# menjadikan kata dasar\n",
        "def word_stemmer(token_list):\n",
        "  ps = nltk.stem.PorterStemmer()\n",
        "  stemmed = []\n",
        "  for words in token_list:\n",
        "    stemmed.append(ps.stem(words))\n",
        "  return stemmed"
      ]
    },
    {
      "cell_type": "code",
      "execution_count": 62,
      "metadata": {
        "colab": {
          "base_uri": "https://localhost:8080/",
          "height": 153
        },
        "colab_type": "code",
        "id": "yhvxhWsJi7u4",
        "outputId": "6f6234d9-b346-45c3-b728-9fcf80314fa4"
      },
      "outputs": [
        {
          "name": "stdout",
          "output_type": "stream",
          "text": [
            "WORD TOKENS:\n",
            "['Messi', 'bermain', 'bola', 'bersama', 'Ronaldo']\n",
            "\n",
            "AFTER PERFORMING THE WORD STEMMING::\n"
          ]
        },
        {
          "data": {
            "text/plain": [
              "['messi', 'bermain', 'bola', 'bersama', 'ronaldo']"
            ]
          },
          "execution_count": 62,
          "metadata": {},
          "output_type": "execute_result"
        }
      ],
      "source": [
        "#mengecek hasil yang sudah dilakukan diatas\n",
        "tokens = get_tokenized_list(corpus[1])\n",
        "print(\"WORD TOKENS:\")\n",
        "print(tokens)\n",
        "doc_text = tokens\n",
        "print(\"\\nAFTER PERFORMING THE WORD STEMMING::\")\n",
        "doc_text = word_stemmer(doc_text)\n",
        "doc_text"
      ]
    },
    {
      "cell_type": "code",
      "execution_count": 63,
      "metadata": {
        "colab": {
          "base_uri": "https://localhost:8080/",
          "height": 35
        },
        "colab_type": "code",
        "id": "q987xv-5qsls",
        "outputId": "688e7883-a354-4fc0-a8a8-13e062f17681"
      },
      "outputs": [
        {
          "data": {
            "text/plain": [
              "'messi bermain bola bersama ronaldo'"
            ]
          },
          "execution_count": 63,
          "metadata": {},
          "output_type": "execute_result"
        }
      ],
      "source": [
        "#menghubungkan kembali kalimat yang sebelumnya dipecah\n",
        "doc_ = ' '.join(doc_text)\n",
        "doc_"
      ]
    },
    {
      "cell_type": "markdown",
      "metadata": {},
      "source": [
        "##### Menjalankan fungsi Tokenizing dan Stemming"
      ]
    },
    {
      "cell_type": "code",
      "execution_count": 64,
      "metadata": {
        "colab": {
          "base_uri": "https://localhost:8080/",
          "height": 136
        },
        "colab_type": "code",
        "id": "x1XHcJr3vMx4",
        "outputId": "2d06e9a5-0c97-49d2-9519-2f1aa818aee3"
      },
      "outputs": [
        {
          "data": {
            "text/plain": [
              "['aldi memasak nasi',\n",
              " 'messi bermain bola bersama ronaldo',\n",
              " 'ronaldo makan nasi',\n",
              " 'messi beli somay',\n",
              " 'yanto pergi bersama aldi ke jakarta',\n",
              " 'aldi bermain game dengan ronaldo',\n",
              " 'jakarta merupakan kota kelahiran messi',\n",
              " 'somay itu dibuat oleh ronaldo',\n",
              " 'messi makan nasi dengan somay',\n",
              " 'yanto dan messi makan somay sambil bermain bola',\n",
              " 'ronaldo memasak sayur sebelum pergi ke jakarta',\n",
              " 'jakarta hujan setiap sore hari',\n",
              " 'aldi pergi ke jakarta menonton pertandingan bola']"
            ]
          },
          "execution_count": 64,
          "metadata": {},
          "output_type": "execute_result"
        }
      ],
      "source": [
        "cleaned_corpus = []\n",
        "for doc in corpus:\n",
        "  tokens = get_tokenized_list(doc)\n",
        "  doc_text  = word_stemmer(tokens)\n",
        "  doc_text = ' '.join(doc_text)\n",
        "  cleaned_corpus.append(doc_text)\n",
        "cleaned_corpus"
      ]
    },
    {
      "cell_type": "markdown",
      "metadata": {},
      "source": [
        "##### Menghitung TF & IDF"
      ]
    },
    {
      "cell_type": "code",
      "execution_count": 65,
      "metadata": {
        "colab": {
          "base_uri": "https://localhost:8080/",
          "height": 105
        },
        "colab_type": "code",
        "id": "XzmB6HR3x7vc",
        "outputId": "ecfe7e7b-753a-4e2b-ffd2-dbd2b7a70727"
      },
      "outputs": [
        {
          "name": "stdout",
          "output_type": "stream",
          "text": [
            "['aldi', 'beli', 'bermain', 'bersama', 'bola', 'dan', 'dengan', 'dibuat', 'game', 'hari', 'hujan', 'itu', 'jakarta', 'ke', 'kelahiran', 'kota', 'makan', 'memasak', 'menonton', 'merupakan', 'messi', 'nasi', 'oleh', 'pergi', 'pertandingan', 'ronaldo', 'sambil', 'sayur', 'sebelum', 'setiap', 'somay', 'sore', 'yanto']\n",
            "(13, 33)\n"
          ]
        },
        {
          "name": "stderr",
          "output_type": "stream",
          "text": [
            "c:\\Users\\user\\AppData\\Local\\Programs\\Python\\Python310\\lib\\site-packages\\sklearn\\utils\\deprecation.py:87: FutureWarning: Function get_feature_names is deprecated; get_feature_names is deprecated in 1.0 and will be removed in 1.2. Please use get_feature_names_out instead.\n",
            "  warnings.warn(msg, category=FutureWarning)\n"
          ]
        }
      ],
      "source": [
        "vectorizerX = TfidfVectorizer()\n",
        "vectorizerX.fit(cleaned_corpus)\n",
        "doc_vector = vectorizerX.transform(cleaned_corpus)\n",
        "print(vectorizerX.get_feature_names())\n",
        "\n",
        "print(doc_vector.shape)"
      ]
    },
    {
      "cell_type": "code",
      "execution_count": 66,
      "metadata": {
        "colab": {
          "base_uri": "https://localhost:8080/",
          "height": 286
        },
        "colab_type": "code",
        "id": "_yk84d1CyrTs",
        "outputId": "9b3a5077-d428-4754-825a-c915f98ab24b"
      },
      "outputs": [
        {
          "data": {
            "text/html": [
              "<div>\n",
              "<style scoped>\n",
              "    .dataframe tbody tr th:only-of-type {\n",
              "        vertical-align: middle;\n",
              "    }\n",
              "\n",
              "    .dataframe tbody tr th {\n",
              "        vertical-align: top;\n",
              "    }\n",
              "\n",
              "    .dataframe thead th {\n",
              "        text-align: right;\n",
              "    }\n",
              "</style>\n",
              "<table border=\"1\" class=\"dataframe\">\n",
              "  <thead>\n",
              "    <tr style=\"text-align: right;\">\n",
              "      <th></th>\n",
              "      <th>aldi</th>\n",
              "      <th>beli</th>\n",
              "      <th>bermain</th>\n",
              "      <th>bersama</th>\n",
              "      <th>bola</th>\n",
              "      <th>dan</th>\n",
              "      <th>dengan</th>\n",
              "      <th>dibuat</th>\n",
              "      <th>game</th>\n",
              "      <th>hari</th>\n",
              "      <th>...</th>\n",
              "      <th>pergi</th>\n",
              "      <th>pertandingan</th>\n",
              "      <th>ronaldo</th>\n",
              "      <th>sambil</th>\n",
              "      <th>sayur</th>\n",
              "      <th>sebelum</th>\n",
              "      <th>setiap</th>\n",
              "      <th>somay</th>\n",
              "      <th>sore</th>\n",
              "      <th>yanto</th>\n",
              "    </tr>\n",
              "  </thead>\n",
              "  <tbody>\n",
              "    <tr>\n",
              "      <th>0</th>\n",
              "      <td>0.513078</td>\n",
              "      <td>0.000000</td>\n",
              "      <td>0.000000</td>\n",
              "      <td>0.000000</td>\n",
              "      <td>0.000000</td>\n",
              "      <td>0.000000</td>\n",
              "      <td>0.000000</td>\n",
              "      <td>0.000000</td>\n",
              "      <td>0.000000</td>\n",
              "      <td>0.000000</td>\n",
              "      <td>...</td>\n",
              "      <td>0.000000</td>\n",
              "      <td>0.00000</td>\n",
              "      <td>0.000000</td>\n",
              "      <td>0.000000</td>\n",
              "      <td>0.000000</td>\n",
              "      <td>0.000000</td>\n",
              "      <td>0.000000</td>\n",
              "      <td>0.000000</td>\n",
              "      <td>0.000000</td>\n",
              "      <td>0.000000</td>\n",
              "    </tr>\n",
              "    <tr>\n",
              "      <th>1</th>\n",
              "      <td>0.000000</td>\n",
              "      <td>0.000000</td>\n",
              "      <td>0.465415</td>\n",
              "      <td>0.524850</td>\n",
              "      <td>0.465415</td>\n",
              "      <td>0.000000</td>\n",
              "      <td>0.000000</td>\n",
              "      <td>0.000000</td>\n",
              "      <td>0.000000</td>\n",
              "      <td>0.000000</td>\n",
              "      <td>...</td>\n",
              "      <td>0.000000</td>\n",
              "      <td>0.00000</td>\n",
              "      <td>0.381647</td>\n",
              "      <td>0.000000</td>\n",
              "      <td>0.000000</td>\n",
              "      <td>0.000000</td>\n",
              "      <td>0.000000</td>\n",
              "      <td>0.000000</td>\n",
              "      <td>0.000000</td>\n",
              "      <td>0.000000</td>\n",
              "    </tr>\n",
              "    <tr>\n",
              "      <th>2</th>\n",
              "      <td>0.000000</td>\n",
              "      <td>0.000000</td>\n",
              "      <td>0.000000</td>\n",
              "      <td>0.000000</td>\n",
              "      <td>0.000000</td>\n",
              "      <td>0.000000</td>\n",
              "      <td>0.000000</td>\n",
              "      <td>0.000000</td>\n",
              "      <td>0.000000</td>\n",
              "      <td>0.000000</td>\n",
              "      <td>...</td>\n",
              "      <td>0.000000</td>\n",
              "      <td>0.00000</td>\n",
              "      <td>0.501613</td>\n",
              "      <td>0.000000</td>\n",
              "      <td>0.000000</td>\n",
              "      <td>0.000000</td>\n",
              "      <td>0.000000</td>\n",
              "      <td>0.000000</td>\n",
              "      <td>0.000000</td>\n",
              "      <td>0.000000</td>\n",
              "    </tr>\n",
              "    <tr>\n",
              "      <th>3</th>\n",
              "      <td>0.000000</td>\n",
              "      <td>0.731686</td>\n",
              "      <td>0.000000</td>\n",
              "      <td>0.000000</td>\n",
              "      <td>0.000000</td>\n",
              "      <td>0.000000</td>\n",
              "      <td>0.000000</td>\n",
              "      <td>0.000000</td>\n",
              "      <td>0.000000</td>\n",
              "      <td>0.000000</td>\n",
              "      <td>...</td>\n",
              "      <td>0.000000</td>\n",
              "      <td>0.00000</td>\n",
              "      <td>0.000000</td>\n",
              "      <td>0.000000</td>\n",
              "      <td>0.000000</td>\n",
              "      <td>0.000000</td>\n",
              "      <td>0.000000</td>\n",
              "      <td>0.504104</td>\n",
              "      <td>0.000000</td>\n",
              "      <td>0.000000</td>\n",
              "    </tr>\n",
              "    <tr>\n",
              "      <th>4</th>\n",
              "      <td>0.366968</td>\n",
              "      <td>0.000000</td>\n",
              "      <td>0.000000</td>\n",
              "      <td>0.459329</td>\n",
              "      <td>0.000000</td>\n",
              "      <td>0.000000</td>\n",
              "      <td>0.000000</td>\n",
              "      <td>0.000000</td>\n",
              "      <td>0.000000</td>\n",
              "      <td>0.000000</td>\n",
              "      <td>...</td>\n",
              "      <td>0.407314</td>\n",
              "      <td>0.00000</td>\n",
              "      <td>0.000000</td>\n",
              "      <td>0.000000</td>\n",
              "      <td>0.000000</td>\n",
              "      <td>0.000000</td>\n",
              "      <td>0.000000</td>\n",
              "      <td>0.000000</td>\n",
              "      <td>0.000000</td>\n",
              "      <td>0.459329</td>\n",
              "    </tr>\n",
              "    <tr>\n",
              "      <th>5</th>\n",
              "      <td>0.385362</td>\n",
              "      <td>0.000000</td>\n",
              "      <td>0.427730</td>\n",
              "      <td>0.000000</td>\n",
              "      <td>0.000000</td>\n",
              "      <td>0.000000</td>\n",
              "      <td>0.482352</td>\n",
              "      <td>0.000000</td>\n",
              "      <td>0.559337</td>\n",
              "      <td>0.000000</td>\n",
              "      <td>...</td>\n",
              "      <td>0.000000</td>\n",
              "      <td>0.00000</td>\n",
              "      <td>0.350745</td>\n",
              "      <td>0.000000</td>\n",
              "      <td>0.000000</td>\n",
              "      <td>0.000000</td>\n",
              "      <td>0.000000</td>\n",
              "      <td>0.000000</td>\n",
              "      <td>0.000000</td>\n",
              "      <td>0.000000</td>\n",
              "    </tr>\n",
              "    <tr>\n",
              "      <th>6</th>\n",
              "      <td>0.000000</td>\n",
              "      <td>0.000000</td>\n",
              "      <td>0.000000</td>\n",
              "      <td>0.000000</td>\n",
              "      <td>0.000000</td>\n",
              "      <td>0.000000</td>\n",
              "      <td>0.000000</td>\n",
              "      <td>0.000000</td>\n",
              "      <td>0.000000</td>\n",
              "      <td>0.000000</td>\n",
              "      <td>...</td>\n",
              "      <td>0.000000</td>\n",
              "      <td>0.00000</td>\n",
              "      <td>0.000000</td>\n",
              "      <td>0.000000</td>\n",
              "      <td>0.000000</td>\n",
              "      <td>0.000000</td>\n",
              "      <td>0.000000</td>\n",
              "      <td>0.000000</td>\n",
              "      <td>0.000000</td>\n",
              "      <td>0.000000</td>\n",
              "    </tr>\n",
              "    <tr>\n",
              "      <th>7</th>\n",
              "      <td>0.000000</td>\n",
              "      <td>0.000000</td>\n",
              "      <td>0.000000</td>\n",
              "      <td>0.000000</td>\n",
              "      <td>0.000000</td>\n",
              "      <td>0.000000</td>\n",
              "      <td>0.000000</td>\n",
              "      <td>0.508467</td>\n",
              "      <td>0.000000</td>\n",
              "      <td>0.000000</td>\n",
              "      <td>...</td>\n",
              "      <td>0.000000</td>\n",
              "      <td>0.00000</td>\n",
              "      <td>0.318846</td>\n",
              "      <td>0.000000</td>\n",
              "      <td>0.000000</td>\n",
              "      <td>0.000000</td>\n",
              "      <td>0.000000</td>\n",
              "      <td>0.350315</td>\n",
              "      <td>0.000000</td>\n",
              "      <td>0.000000</td>\n",
              "    </tr>\n",
              "    <tr>\n",
              "      <th>8</th>\n",
              "      <td>0.000000</td>\n",
              "      <td>0.000000</td>\n",
              "      <td>0.000000</td>\n",
              "      <td>0.000000</td>\n",
              "      <td>0.000000</td>\n",
              "      <td>0.000000</td>\n",
              "      <td>0.517107</td>\n",
              "      <td>0.000000</td>\n",
              "      <td>0.000000</td>\n",
              "      <td>0.000000</td>\n",
              "      <td>...</td>\n",
              "      <td>0.000000</td>\n",
              "      <td>0.00000</td>\n",
              "      <td>0.000000</td>\n",
              "      <td>0.000000</td>\n",
              "      <td>0.000000</td>\n",
              "      <td>0.000000</td>\n",
              "      <td>0.000000</td>\n",
              "      <td>0.413129</td>\n",
              "      <td>0.000000</td>\n",
              "      <td>0.000000</td>\n",
              "    </tr>\n",
              "    <tr>\n",
              "      <th>9</th>\n",
              "      <td>0.000000</td>\n",
              "      <td>0.000000</td>\n",
              "      <td>0.330122</td>\n",
              "      <td>0.000000</td>\n",
              "      <td>0.330122</td>\n",
              "      <td>0.431697</td>\n",
              "      <td>0.000000</td>\n",
              "      <td>0.000000</td>\n",
              "      <td>0.000000</td>\n",
              "      <td>0.000000</td>\n",
              "      <td>...</td>\n",
              "      <td>0.000000</td>\n",
              "      <td>0.00000</td>\n",
              "      <td>0.000000</td>\n",
              "      <td>0.431697</td>\n",
              "      <td>0.000000</td>\n",
              "      <td>0.000000</td>\n",
              "      <td>0.000000</td>\n",
              "      <td>0.297423</td>\n",
              "      <td>0.000000</td>\n",
              "      <td>0.372280</td>\n",
              "    </tr>\n",
              "    <tr>\n",
              "      <th>10</th>\n",
              "      <td>0.000000</td>\n",
              "      <td>0.000000</td>\n",
              "      <td>0.000000</td>\n",
              "      <td>0.000000</td>\n",
              "      <td>0.000000</td>\n",
              "      <td>0.000000</td>\n",
              "      <td>0.000000</td>\n",
              "      <td>0.000000</td>\n",
              "      <td>0.000000</td>\n",
              "      <td>0.000000</td>\n",
              "      <td>...</td>\n",
              "      <td>0.352746</td>\n",
              "      <td>0.00000</td>\n",
              "      <td>0.289257</td>\n",
              "      <td>0.000000</td>\n",
              "      <td>0.461282</td>\n",
              "      <td>0.461282</td>\n",
              "      <td>0.000000</td>\n",
              "      <td>0.000000</td>\n",
              "      <td>0.000000</td>\n",
              "      <td>0.000000</td>\n",
              "    </tr>\n",
              "    <tr>\n",
              "      <th>11</th>\n",
              "      <td>0.000000</td>\n",
              "      <td>0.000000</td>\n",
              "      <td>0.000000</td>\n",
              "      <td>0.000000</td>\n",
              "      <td>0.000000</td>\n",
              "      <td>0.000000</td>\n",
              "      <td>0.000000</td>\n",
              "      <td>0.000000</td>\n",
              "      <td>0.000000</td>\n",
              "      <td>0.477099</td>\n",
              "      <td>...</td>\n",
              "      <td>0.000000</td>\n",
              "      <td>0.00000</td>\n",
              "      <td>0.000000</td>\n",
              "      <td>0.000000</td>\n",
              "      <td>0.000000</td>\n",
              "      <td>0.000000</td>\n",
              "      <td>0.477099</td>\n",
              "      <td>0.000000</td>\n",
              "      <td>0.477099</td>\n",
              "      <td>0.000000</td>\n",
              "    </tr>\n",
              "    <tr>\n",
              "      <th>12</th>\n",
              "      <td>0.320457</td>\n",
              "      <td>0.000000</td>\n",
              "      <td>0.000000</td>\n",
              "      <td>0.000000</td>\n",
              "      <td>0.355689</td>\n",
              "      <td>0.000000</td>\n",
              "      <td>0.000000</td>\n",
              "      <td>0.000000</td>\n",
              "      <td>0.000000</td>\n",
              "      <td>0.000000</td>\n",
              "      <td>...</td>\n",
              "      <td>0.355689</td>\n",
              "      <td>0.46513</td>\n",
              "      <td>0.000000</td>\n",
              "      <td>0.000000</td>\n",
              "      <td>0.000000</td>\n",
              "      <td>0.000000</td>\n",
              "      <td>0.000000</td>\n",
              "      <td>0.000000</td>\n",
              "      <td>0.000000</td>\n",
              "      <td>0.000000</td>\n",
              "    </tr>\n",
              "  </tbody>\n",
              "</table>\n",
              "<p>13 rows × 33 columns</p>\n",
              "</div>"
            ],
            "text/plain": [
              "        aldi      beli   bermain   bersama      bola       dan    dengan  \\\n",
              "0   0.513078  0.000000  0.000000  0.000000  0.000000  0.000000  0.000000   \n",
              "1   0.000000  0.000000  0.465415  0.524850  0.465415  0.000000  0.000000   \n",
              "2   0.000000  0.000000  0.000000  0.000000  0.000000  0.000000  0.000000   \n",
              "3   0.000000  0.731686  0.000000  0.000000  0.000000  0.000000  0.000000   \n",
              "4   0.366968  0.000000  0.000000  0.459329  0.000000  0.000000  0.000000   \n",
              "5   0.385362  0.000000  0.427730  0.000000  0.000000  0.000000  0.482352   \n",
              "6   0.000000  0.000000  0.000000  0.000000  0.000000  0.000000  0.000000   \n",
              "7   0.000000  0.000000  0.000000  0.000000  0.000000  0.000000  0.000000   \n",
              "8   0.000000  0.000000  0.000000  0.000000  0.000000  0.000000  0.517107   \n",
              "9   0.000000  0.000000  0.330122  0.000000  0.330122  0.431697  0.000000   \n",
              "10  0.000000  0.000000  0.000000  0.000000  0.000000  0.000000  0.000000   \n",
              "11  0.000000  0.000000  0.000000  0.000000  0.000000  0.000000  0.000000   \n",
              "12  0.320457  0.000000  0.000000  0.000000  0.355689  0.000000  0.000000   \n",
              "\n",
              "      dibuat      game      hari  ...     pergi  pertandingan   ronaldo  \\\n",
              "0   0.000000  0.000000  0.000000  ...  0.000000       0.00000  0.000000   \n",
              "1   0.000000  0.000000  0.000000  ...  0.000000       0.00000  0.381647   \n",
              "2   0.000000  0.000000  0.000000  ...  0.000000       0.00000  0.501613   \n",
              "3   0.000000  0.000000  0.000000  ...  0.000000       0.00000  0.000000   \n",
              "4   0.000000  0.000000  0.000000  ...  0.407314       0.00000  0.000000   \n",
              "5   0.000000  0.559337  0.000000  ...  0.000000       0.00000  0.350745   \n",
              "6   0.000000  0.000000  0.000000  ...  0.000000       0.00000  0.000000   \n",
              "7   0.508467  0.000000  0.000000  ...  0.000000       0.00000  0.318846   \n",
              "8   0.000000  0.000000  0.000000  ...  0.000000       0.00000  0.000000   \n",
              "9   0.000000  0.000000  0.000000  ...  0.000000       0.00000  0.000000   \n",
              "10  0.000000  0.000000  0.000000  ...  0.352746       0.00000  0.289257   \n",
              "11  0.000000  0.000000  0.477099  ...  0.000000       0.00000  0.000000   \n",
              "12  0.000000  0.000000  0.000000  ...  0.355689       0.46513  0.000000   \n",
              "\n",
              "      sambil     sayur   sebelum    setiap     somay      sore     yanto  \n",
              "0   0.000000  0.000000  0.000000  0.000000  0.000000  0.000000  0.000000  \n",
              "1   0.000000  0.000000  0.000000  0.000000  0.000000  0.000000  0.000000  \n",
              "2   0.000000  0.000000  0.000000  0.000000  0.000000  0.000000  0.000000  \n",
              "3   0.000000  0.000000  0.000000  0.000000  0.504104  0.000000  0.000000  \n",
              "4   0.000000  0.000000  0.000000  0.000000  0.000000  0.000000  0.459329  \n",
              "5   0.000000  0.000000  0.000000  0.000000  0.000000  0.000000  0.000000  \n",
              "6   0.000000  0.000000  0.000000  0.000000  0.000000  0.000000  0.000000  \n",
              "7   0.000000  0.000000  0.000000  0.000000  0.350315  0.000000  0.000000  \n",
              "8   0.000000  0.000000  0.000000  0.000000  0.413129  0.000000  0.000000  \n",
              "9   0.431697  0.000000  0.000000  0.000000  0.297423  0.000000  0.372280  \n",
              "10  0.000000  0.461282  0.461282  0.000000  0.000000  0.000000  0.000000  \n",
              "11  0.000000  0.000000  0.000000  0.477099  0.000000  0.477099  0.000000  \n",
              "12  0.000000  0.000000  0.000000  0.000000  0.000000  0.000000  0.000000  \n",
              "\n",
              "[13 rows x 33 columns]"
            ]
          },
          "execution_count": 66,
          "metadata": {},
          "output_type": "execute_result"
        }
      ],
      "source": [
        "#Memasukan corpus yang sudah diproses kedalam dataframe dan divisualisasikan melalui table\n",
        "df1 = pd.DataFrame(doc_vector.toarray(), columns=vectorizerX.get_feature_names())\n",
        "df1"
      ]
    },
    {
      "cell_type": "markdown",
      "metadata": {
        "colab_type": "text",
        "id": "7uZpxgre7DT-"
      },
      "source": [
        "#Preprocess the Query and transform it to vector"
      ]
    },
    {
      "cell_type": "markdown",
      "metadata": {},
      "source": [
        "##### Proses Searching"
      ]
    },
    {
      "cell_type": "code",
      "execution_count": 67,
      "metadata": {
        "colab": {},
        "colab_type": "code",
        "id": "VYLF1iiKibSG"
      },
      "outputs": [],
      "source": [
        "query = input('ketikan sesuatu...')\n",
        "query = get_tokenized_list(query)\n",
        "q = []\n",
        "for w in word_stemmer(query):\n",
        "  q.append(w)\n",
        "q = ' '.join(q)\n",
        "q\n",
        "query_vector = vectorizerX.transform([q])\n"
      ]
    },
    {
      "cell_type": "markdown",
      "metadata": {
        "colab_type": "text",
        "id": "XjmGX-fSOUHC"
      },
      "source": [
        "#Penghitungan menggunakan Cosine Similarty\n",
        "![alt text](https://i.stack.imgur.com/36r1U.png)"
      ]
    },
    {
      "cell_type": "code",
      "execution_count": 68,
      "metadata": {
        "colab": {},
        "colab_type": "code",
        "id": "5wm_V72GzJcD"
      },
      "outputs": [],
      "source": [
        "# proses penghitungan cosine similarities\n",
        "from sklearn.metrics.pairwise import cosine_similarity\n",
        "cosineSimilarities = cosine_similarity(doc_vector,query_vector).flatten()"
      ]
    },
    {
      "cell_type": "code",
      "execution_count": 69,
      "metadata": {
        "colab": {
          "base_uri": "https://localhost:8080/",
          "height": 153
        },
        "colab_type": "code",
        "id": "P_GYjPiQ1Dxp",
        "outputId": "68649962-0f81-4bed-98fa-ada7f16982b6"
      },
      "outputs": [
        {
          "name": "stdout",
          "output_type": "stream",
          "text": [
            "[12  1  9  4  6]\n",
            "['aldi pergi ke jakarta menonton pertandingan bola']\n",
            "['messi bermain bola bersama ronaldo']\n",
            "['yanto dan messi makan somay sambil bermain bola']\n",
            "['yanto pergi bersama aldi ke jakarta']\n",
            "['jakarta merupakan kota kelahiran messi']\n"
          ]
        }
      ],
      "source": [
        "related_docs_indices = cosineSimilarities.argsort()[:-6:-1]\n",
        "print(related_docs_indices)\n",
        "\n",
        "for i in related_docs_indices:\n",
        "    data = [cleaned_corpus[i]]\n",
        "    print(data)"
      ]
    }
  ],
  "metadata": {
    "colab": {
      "collapsed_sections": [],
      "name": "VSM_the_simplest.ipynb",
      "provenance": []
    },
    "kernelspec": {
      "display_name": "Python 3.10.1 64-bit",
      "language": "python",
      "name": "python3"
    },
    "language_info": {
      "codemirror_mode": {
        "name": "ipython",
        "version": 3
      },
      "file_extension": ".py",
      "mimetype": "text/x-python",
      "name": "python",
      "nbconvert_exporter": "python",
      "pygments_lexer": "ipython3",
      "version": "3.10.1"
    },
    "vscode": {
      "interpreter": {
        "hash": "fb4569285eef3a3450cb62085a5b1e0da4bce0af555edc33dcf29baf3acc1368"
      }
    }
  },
  "nbformat": 4,
  "nbformat_minor": 0
}
